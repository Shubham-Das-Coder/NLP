{
  "nbformat": 4,
  "nbformat_minor": 0,
  "metadata": {
    "colab": {
      "provenance": [],
      "collapsed_sections": [],
      "authorship_tag": "ABX9TyN9gBFSRjYaTUMlUr3FEV2Y"
    },
    "kernelspec": {
      "name": "python3",
      "display_name": "Python 3"
    },
    "language_info": {
      "name": "python"
    }
  },
  "cells": [
    {
      "cell_type": "code",
      "execution_count": 1,
      "metadata": {
        "colab": {
          "base_uri": "https://localhost:8080/"
        },
        "id": "PidY6vqqJQ4i",
        "outputId": "f7ba9a26-64ba-4305-8bb5-3e0aa1cbb615"
      },
      "outputs": [
        {
          "output_type": "stream",
          "name": "stdout",
          "text": [
            "Looking in indexes: https://pypi.org/simple, https://us-python.pkg.dev/colab-wheels/public/simple/\n",
            "Requirement already satisfied: pyspellchecker in /usr/local/lib/python3.7/dist-packages (0.7.0)\n"
          ]
        }
      ],
      "source": [
        "!pip install pyspellchecker"
      ]
    },
    {
      "cell_type": "code",
      "source": [
        "from spellchecker import SpellChecker\n",
        "\n",
        "spell = SpellChecker()"
      ],
      "metadata": {
        "id": "1lkXqyawJWMt"
      },
      "execution_count": 2,
      "outputs": []
    },
    {
      "cell_type": "code",
      "source": [
        "from spellchecker import SpellChecker\n",
        "\n",
        "spell = SpellChecker()\n",
        "spell['morning']  # True\n",
        "'morning' in spell  # True\n",
        "\n",
        "# find those words from a list of words that are found in the dictionary\n",
        "print(spell.known(['morning', 'hapenning']))  # {'morning'}\n",
        "\n",
        "# find those words from a list of words that are not found in the dictionary\n",
        "print(spell.unknown(['morning', 'hapenning']))  # {'hapenning'}"
      ],
      "metadata": {
        "colab": {
          "base_uri": "https://localhost:8080/"
        },
        "id": "wGlrFZ1WJgMa",
        "outputId": "fcdd4464-3ff4-47b2-da84-293619541fec"
      },
      "execution_count": 3,
      "outputs": [
        {
          "output_type": "stream",
          "name": "stdout",
          "text": [
            "{'morning'}\n",
            "{'hapenning'}\n"
          ]
        }
      ]
    },
    {
      "cell_type": "code",
      "source": [
        "from spellchecker import SpellChecker\n",
        "\n",
        "spell = SpellChecker()\n",
        "\n",
        "misspelled = spell.unknown(['morning', 'hapenning'])  # {'hapenning'}\n",
        "for word in misspelled:\n",
        "    print(spell.correction(word))  # 'happening'"
      ],
      "metadata": {
        "colab": {
          "base_uri": "https://localhost:8080/"
        },
        "id": "EOl65OJbJiza",
        "outputId": "36bc124e-9360-460b-ef67-3665f553c1f9"
      },
      "execution_count": 4,
      "outputs": [
        {
          "output_type": "stream",
          "name": "stdout",
          "text": [
            "happening\n"
          ]
        }
      ]
    },
    {
      "cell_type": "code",
      "source": [
        "from spellchecker import SpellChecker\n",
        "\n",
        "spell = SpellChecker(distance=1)  # set the Levenshtein Distance parameter\n",
        "\n",
        "# do additional work\n",
        "\n",
        "# now for shorter words, we can revert to Levenshtein Distance of 2!\n",
        "spell.distance = 2"
      ],
      "metadata": {
        "id": "Fv1-DgYZJ30a"
      },
      "execution_count": 5,
      "outputs": []
    },
    {
      "cell_type": "code",
      "source": [
        "from spellchecker import SpellChecker\n",
        "\n",
        "spell = SpellChecker()\n",
        "\n",
        "misspelled = spell.unknown(['morning', 'hapenning'])  # {'hapenning'}\n",
        "for word in misspelled:\n",
        "    print(spell.correction(word))  # {'penning', 'happening', 'henning'}"
      ],
      "metadata": {
        "colab": {
          "base_uri": "https://localhost:8080/"
        },
        "id": "6S_yD-i7YQ4O",
        "outputId": "5b79d2e9-6ab7-492a-c67a-c73b207375d8"
      },
      "execution_count": 6,
      "outputs": [
        {
          "output_type": "stream",
          "name": "stdout",
          "text": [
            "happening\n"
          ]
        }
      ]
    },
    {
      "cell_type": "code",
      "source": [
        "from spellchecker import SpellChecker\n",
        "\n",
        "# could add command line arguments to set the parameters of the spell\n",
        "# check class; setup what type of information to present back, etc.\n",
        "spell = SpellChecker()\n",
        "\n",
        "print(\"To exit, hit return without input!\")\n",
        "while True:\n",
        "    word = input('Input a word to spell check: ')\n",
        "    if word == '':  # not sure, but need a way to kill the program...\n",
        "        break\n",
        "    word = word.lower()\n",
        "    if word in spell:\n",
        "        print(\"'{}' is spelled correctly!\".format(word))\n",
        "    else:\n",
        "        cor = spell.correction(word)\n",
        "        print(\"The best spelling for '{}' is '{}'\".format(word, cor))\n",
        "\n",
        "        print(\"If that is not enough; here are all possible candidate words:\")\n",
        "        print(spell.candidates(word))"
      ],
      "metadata": {
        "colab": {
          "base_uri": "https://localhost:8080/"
        },
        "id": "RFsm0WkUYVtD",
        "outputId": "772eead3-ea3d-4a4d-bc35-1ce9b6ac14f2"
      },
      "execution_count": 7,
      "outputs": [
        {
          "name": "stdout",
          "output_type": "stream",
          "text": [
            "To exit, hit return without input!\n",
            "Input a word to spell check: candeedate\n",
            "The best spelling for 'candeedate' is 'candidate'\n",
            "If that is not enough; here are all possible candidate words:\n",
            "{'candidate'}\n",
            "Input a word to spell check: speling\n",
            "The best spelling for 'speling' is 'spelling'\n",
            "If that is not enough; here are all possible candidate words:\n",
            "{'spelling', 'spewing'}\n",
            "Input a word to spell check: anymal\n",
            "The best spelling for 'anymal' is 'animal'\n",
            "If that is not enough; here are all possible candidate words:\n",
            "{'animal'}\n",
            "Input a word to spell check: transfirmers\n",
            "The best spelling for 'transfirmers' is 'transformers'\n",
            "If that is not enough; here are all possible candidate words:\n",
            "{'transformers'}\n",
            "Input a word to spell check: dip\n",
            "'dip' is spelled correctly!\n",
            "Input a word to spell check: learnning\n",
            "The best spelling for 'learnning' is 'learning'\n",
            "If that is not enough; here are all possible candidate words:\n",
            "{'learning'}\n",
            "Input a word to spell check: \n"
          ]
        }
      ]
    }
  ]
}