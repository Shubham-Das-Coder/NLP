{
 "cells": [
  {
   "cell_type": "code",
   "execution_count": 1,
   "id": "df9e3d5f",
   "metadata": {},
   "outputs": [],
   "source": [
    "from textblob import TextBlob"
   ]
  },
  {
   "cell_type": "code",
   "execution_count": 2,
   "id": "68d1cfe7",
   "metadata": {},
   "outputs": [
    {
     "name": "stdout",
     "output_type": "stream",
     "text": [
      "I will play cricket inside the playground\n"
     ]
    }
   ],
   "source": [
    "text1=TextBlob(\"I wiil pley creecket insaide the playground\")\n",
    "print(text1.correct())"
   ]
  },
  {
   "cell_type": "code",
   "execution_count": 3,
   "id": "1bb1c1f5",
   "metadata": {},
   "outputs": [
    {
     "name": "stdout",
     "output_type": "stream",
     "text": [
      "I usually took with my friends\n"
     ]
    }
   ],
   "source": [
    "text2=TextBlob(\"I usualy tolk with my frinds\")\n",
    "print(text2.correct())"
   ]
  },
  {
   "cell_type": "code",
   "execution_count": 4,
   "id": "f0787e78",
   "metadata": {},
   "outputs": [
    {
     "name": "stdout",
     "output_type": "stream",
     "text": [
      "I love to watch films in the theaters\n"
     ]
    }
   ],
   "source": [
    "text3=TextBlob(\"I luve to waach films in the theatres\")\n",
    "print(text3.correct())"
   ]
  },
  {
   "cell_type": "code",
   "execution_count": 5,
   "id": "f0237cc0",
   "metadata": {},
   "outputs": [
    {
     "name": "stdout",
     "output_type": "stream",
     "text": [
      "Please check whether the windows are closed or not.\n"
     ]
    }
   ],
   "source": [
    "text4=TextBlob(\"Pleise check whether the wendows are closed or not.\")\n",
    "print(text4.correct())"
   ]
  }
 ],
 "metadata": {
  "kernelspec": {
   "display_name": "Python 3",
   "language": "python",
   "name": "python3"
  },
  "language_info": {
   "codemirror_mode": {
    "name": "ipython",
    "version": 3
   },
   "file_extension": ".py",
   "mimetype": "text/x-python",
   "name": "python",
   "nbconvert_exporter": "python",
   "pygments_lexer": "ipython3",
   "version": "3.8.8"
  }
 },
 "nbformat": 4,
 "nbformat_minor": 5
}
