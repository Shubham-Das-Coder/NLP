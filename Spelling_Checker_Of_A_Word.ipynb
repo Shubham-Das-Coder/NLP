{
 "cells": [
  {
   "cell_type": "code",
   "execution_count": 1,
   "id": "7a3d7261",
   "metadata": {},
   "outputs": [],
   "source": [
    "from textblob import Word"
   ]
  },
  {
   "cell_type": "code",
   "execution_count": 2,
   "id": "e1daae45",
   "metadata": {},
   "outputs": [
    {
     "name": "stdout",
     "output_type": "stream",
     "text": [
      "[('apple', 1.0)]\n"
     ]
    }
   ],
   "source": [
    "word = Word('appple')\n",
    "result = word.spellcheck()\n",
    "print(result)"
   ]
  },
  {
   "cell_type": "code",
   "execution_count": 3,
   "id": "54811241",
   "metadata": {},
   "outputs": [
    {
     "name": "stdout",
     "output_type": "stream",
     "text": [
      "[('able', 0.5140664961636828), ('pale', 0.4219948849104859), ('apple', 0.028132992327365727), ('ample', 0.023017902813299233), ('ape', 0.010230179028132993), ('ale', 0.0025575447570332483)]\n"
     ]
    }
   ],
   "source": [
    "word = Word('aple')\n",
    "result = word.spellcheck()\n",
    "print(result)"
   ]
  },
  {
   "cell_type": "code",
   "execution_count": 4,
   "id": "472c7b38",
   "metadata": {},
   "outputs": [
    {
     "name": "stdout",
     "output_type": "stream",
     "text": [
      "[('table', 0.5703275529865125), ('able', 0.3872832369942196), ('tale', 0.04046242774566474), ('tile', 0.0019267822736030828)]\n"
     ]
    }
   ],
   "source": [
    "word = Word('tble')\n",
    "result = word.spellcheck()\n",
    "print(result)"
   ]
  }
 ],
 "metadata": {
  "kernelspec": {
   "display_name": "Python 3",
   "language": "python",
   "name": "python3"
  },
  "language_info": {
   "codemirror_mode": {
    "name": "ipython",
    "version": 3
   },
   "file_extension": ".py",
   "mimetype": "text/x-python",
   "name": "python",
   "nbconvert_exporter": "python",
   "pygments_lexer": "ipython3",
   "version": "3.8.8"
  }
 },
 "nbformat": 4,
 "nbformat_minor": 5
}
