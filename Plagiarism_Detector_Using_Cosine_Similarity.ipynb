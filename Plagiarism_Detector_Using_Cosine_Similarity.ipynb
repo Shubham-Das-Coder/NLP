{
 "cells": [
  {
   "cell_type": "code",
   "execution_count": 1,
   "id": "fecd3c4a",
   "metadata": {},
   "outputs": [],
   "source": [
    "import os\n",
    "from sklearn.feature_extraction.text import TfidfVectorizer\n",
    "from sklearn.metrics.pairwise import cosine_similarity"
   ]
  },
  {
   "cell_type": "code",
   "execution_count": 2,
   "id": "6a31a426",
   "metadata": {},
   "outputs": [],
   "source": [
    "sample_files=[doc for doc in os.listdir() if doc.endswith('.txt')]"
   ]
  },
  {
   "cell_type": "code",
   "execution_count": 3,
   "id": "f328d8f2",
   "metadata": {},
   "outputs": [],
   "source": [
    "sample_contents=[open(File).read() for File in sample_files]"
   ]
  },
  {
   "cell_type": "code",
   "execution_count": 4,
   "id": "73d29ed3",
   "metadata": {},
   "outputs": [],
   "source": [
    "vectorize=lambda Text: TfidfVectorizer().fit_transform(Text).toarray()"
   ]
  },
  {
   "cell_type": "code",
   "execution_count": 5,
   "id": "8ae5448b",
   "metadata": {},
   "outputs": [],
   "source": [
    "similarity=lambda doc1,doc2: cosine_similarity([doc1,doc2])"
   ]
  },
  {
   "cell_type": "code",
   "execution_count": 6,
   "id": "290a84ed",
   "metadata": {},
   "outputs": [],
   "source": [
    "vectors=vectorize(sample_contents)"
   ]
  },
  {
   "cell_type": "code",
   "execution_count": 7,
   "id": "cffae332",
   "metadata": {},
   "outputs": [],
   "source": [
    "s_vectors=list(zip(sample_files,vectors))"
   ]
  },
  {
   "cell_type": "code",
   "execution_count": 8,
   "id": "4f846e57",
   "metadata": {},
   "outputs": [],
   "source": [
    "def check_plagiarism():\n",
    "    results=set()\n",
    "    global s_vectors\n",
    "    for sample_a,text_vector_a in s_vectors:\n",
    "        new_vectors=s_vectors.copy()\n",
    "        current_index=new_vectors.index((sample_a,text_vector_a))\n",
    "        del new_vectors[current_index]\n",
    "        for sample_b,text_vector_b in new_vectors:\n",
    "            sim_score=similarity(text_vector_a,text_vector_b)[0][1]\n",
    "            sample_pair=sorted((sample_a,sample_b))\n",
    "            score=sample_pair[0],sample_pair[1],sim_score\n",
    "            results.add(score)\n",
    "    return results"
   ]
  },
  {
   "cell_type": "code",
   "execution_count": 9,
   "id": "afac9cc7",
   "metadata": {},
   "outputs": [
    {
     "name": "stdout",
     "output_type": "stream",
     "text": [
      "('ImageNetLabels.txt', 'test2.txt', 0.023884584070049005)\n",
      "('test1.txt', 'test4.txt', 1.0)\n",
      "('ImageNetLabels.txt', 'test1.txt', 0.008397425178671956)\n",
      "('test3.txt', 'test4.txt', 0.7648370227145931)\n",
      "('test1.txt', 'test2.txt', 0.21835146489650778)\n",
      "('ImageNetLabels.txt', 'test4.txt', 0.008397425178671956)\n",
      "('test2.txt', 'test3.txt', 0.2193462851452628)\n",
      "('test2.txt', 'test4.txt', 0.21835146489650778)\n",
      "('test1.txt', 'test3.txt', 0.7648370227145931)\n",
      "('ImageNetLabels.txt', 'test3.txt', 0.01271163982646785)\n"
     ]
    }
   ],
   "source": [
    "for data in check_plagiarism():\n",
    "    print(data)"
   ]
  }
 ],
 "metadata": {
  "kernelspec": {
   "display_name": "Python 3",
   "language": "python",
   "name": "python3"
  },
  "language_info": {
   "codemirror_mode": {
    "name": "ipython",
    "version": 3
   },
   "file_extension": ".py",
   "mimetype": "text/x-python",
   "name": "python",
   "nbconvert_exporter": "python",
   "pygments_lexer": "ipython3",
   "version": "3.8.8"
  }
 },
 "nbformat": 4,
 "nbformat_minor": 5
}
