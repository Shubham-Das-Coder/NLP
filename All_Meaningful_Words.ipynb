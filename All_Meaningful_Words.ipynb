{
 "cells": [
  {
   "cell_type": "code",
   "execution_count": 1,
   "id": "d3915d59",
   "metadata": {},
   "outputs": [],
   "source": [
    "from itertools import permutations\n",
    "import enchant"
   ]
  },
  {
   "cell_type": "code",
   "execution_count": 2,
   "id": "a8f80906",
   "metadata": {},
   "outputs": [],
   "source": [
    "d=enchant.Dict(\"en_US\")"
   ]
  },
  {
   "cell_type": "code",
   "execution_count": 3,
   "id": "f07e468c",
   "metadata": {},
   "outputs": [
    {
     "name": "stdout",
     "output_type": "stream",
     "text": [
      "Enter a word: problem\n",
      "{'mol', 'mope', 'ope', 'pole', 'romp', 'ore', 'mob', 'omer', 'bro', 'bole', 'rem', 'prom', 'more', 'probe', 'poem', 'elm', 'morel', 'omber', 'pro', 'mop', 'per', 'emo', 'pom', 'rob', 'rom', 'robe', 'pol', 'bel', 'lob', 'prob', 'berm', 'lope', 'poler', 'bpm', 'bor', 'roble', 'pleb', 'rel', 'mole', 'orle', 'role', 'perm', 'prem', 'rpm', 'orb', 'ole', 'lobe', 'loper', 'moper', 'rope', 'rep', 'bop', 'prole', 'bore', 'pome', 'mel', 'lore', 'proem', 'pore', 'lop', 'roe'}\n"
     ]
    }
   ],
   "source": [
    "op=set()\n",
    "word=input(\"Enter a word: \")\n",
    "letter=[x.lower() for x in word]\n",
    "for i in range(3,len(word)):\n",
    "    for y in list(permutations(letter,i)):\n",
    "        z=\"\".join(y)\n",
    "        if d.check(z):\n",
    "            op.add(z)\n",
    "print(op)"
   ]
  },
  {
   "cell_type": "code",
   "execution_count": 4,
   "id": "f39f2714",
   "metadata": {},
   "outputs": [
    {
     "name": "stdout",
     "output_type": "stream",
     "text": [
      "Enter a word: humanity\n",
      "{'ami', 'him', 'hin', 'amity', 'nah', 'nim', 'atm', 'tau', 'may', 'nit', 'min', 'man', 'unity', 'tiny', 'thuya', 'nth', 'than', 'tui', 'hit', 'mint', 'yam', 'nut', 'mat', 'thin', 'mut', 'aim', 'tanh', 'ant', 'yum', 'math', 'unit', 'amt', 'ham', 'hun', 'myth', 'tam', 'minty', 'nay', 'anim', 'human', 'naut', 'maun', 'matin', 'mutiny', 'yuan', 'ayin', 'uni', 'hum', 'yin', 'hiya', 'hay', 'tin', 'tum', 'int', 'mynah', 'tuna', 'many', 'auth', 'hunt', 'tain', 'hint', 'mun', 'haunt', 'ain', 'anti', 'myna', 'hat', 'hut', 'tan', 'any', 'main', 'amu', 'thy', 'hymn', 'yah', 'aunt', 'tun', 'ait'}\n"
     ]
    }
   ],
   "source": [
    "op=set()\n",
    "word=input(\"Enter a word: \")\n",
    "letter=[x.lower() for x in word]\n",
    "for i in range(3,len(word)):\n",
    "    for y in list(permutations(letter,i)):\n",
    "        z=\"\".join(y)\n",
    "        if d.check(z):\n",
    "            op.add(z)\n",
    "print(op)"
   ]
  }
 ],
 "metadata": {
  "kernelspec": {
   "display_name": "Python 3",
   "language": "python",
   "name": "python3"
  },
  "language_info": {
   "codemirror_mode": {
    "name": "ipython",
    "version": 3
   },
   "file_extension": ".py",
   "mimetype": "text/x-python",
   "name": "python",
   "nbconvert_exporter": "python",
   "pygments_lexer": "ipython3",
   "version": "3.8.8"
  }
 },
 "nbformat": 4,
 "nbformat_minor": 5
}
