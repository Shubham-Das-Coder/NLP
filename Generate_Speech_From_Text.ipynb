{
 "cells": [
  {
   "cell_type": "code",
   "execution_count": 1,
   "id": "221be64d",
   "metadata": {},
   "outputs": [],
   "source": [
    "from gtts import gTTS"
   ]
  },
  {
   "cell_type": "code",
   "execution_count": 2,
   "id": "449c1036",
   "metadata": {},
   "outputs": [],
   "source": [
    "language=\"en\""
   ]
  },
  {
   "cell_type": "code",
   "execution_count": 3,
   "id": "8a507681",
   "metadata": {},
   "outputs": [],
   "source": [
    "text=\"Hello, I am Shubham Das. I am a coding enthusiast.\""
   ]
  },
  {
   "cell_type": "code",
   "execution_count": 4,
   "id": "02bb86db",
   "metadata": {},
   "outputs": [],
   "source": [
    "speech=gTTS(text=text,lang=language,slow=False,tld=\"com.au\")"
   ]
  },
  {
   "cell_type": "code",
   "execution_count": 5,
   "id": "e70f59b6",
   "metadata": {},
   "outputs": [],
   "source": [
    "speech.save(\"textToSpeech.mp3\")"
   ]
  }
 ],
 "metadata": {
  "kernelspec": {
   "display_name": "Python 3",
   "language": "python",
   "name": "python3"
  },
  "language_info": {
   "codemirror_mode": {
    "name": "ipython",
    "version": 3
   },
   "file_extension": ".py",
   "mimetype": "text/x-python",
   "name": "python",
   "nbconvert_exporter": "python",
   "pygments_lexer": "ipython3",
   "version": "3.8.8"
  }
 },
 "nbformat": 4,
 "nbformat_minor": 5
}
