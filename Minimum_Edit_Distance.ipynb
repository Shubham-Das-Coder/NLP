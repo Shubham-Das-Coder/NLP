{
 "cells": [
  {
   "cell_type": "code",
   "execution_count": 1,
   "id": "3f7b923f",
   "metadata": {},
   "outputs": [],
   "source": [
    "def editDistance(str1, str2, m, n):\n",
    "    if m == 0:\n",
    "        return n\n",
    "    if n == 0:\n",
    "        return m\n",
    "    if str1[m-1] == str2[n-1]:\n",
    "        return editDistance(str1, str2, m-1, n-1)\n",
    "    return 1 + min(editDistance(str1, str2, m, n-1),    # Insert\n",
    "                   editDistance(str1, str2, m-1, n),    # Remove\n",
    "                   editDistance(str1, str2, m-1, n-1)   # Replace\n",
    "                   )"
   ]
  },
  {
   "cell_type": "code",
   "execution_count": 2,
   "id": "6f7869b1",
   "metadata": {},
   "outputs": [],
   "source": [
    "words=['domination','vacation','rat','cat','bat','bet','set','cricket']"
   ]
  },
  {
   "cell_type": "code",
   "execution_count": 3,
   "id": "b8424afa",
   "metadata": {},
   "outputs": [
    {
     "name": "stdout",
     "output_type": "stream",
     "text": [
      "Enter a word: RICKET\n"
     ]
    }
   ],
   "source": [
    "spell=input(\"Enter a word: \")"
   ]
  },
  {
   "cell_type": "code",
   "execution_count": 4,
   "id": "fa4953c0",
   "metadata": {},
   "outputs": [
    {
     "name": "stdout",
     "output_type": "stream",
     "text": [
      "10: domination\n",
      "8: vacation\n",
      "6: rat\n",
      "6: cat\n",
      "6: bat\n",
      "6: bet\n",
      "6: set\n",
      "7: cricket\n"
     ]
    }
   ],
   "source": [
    "for i in range(len(words)):\n",
    "    print(str(editDistance(spell,words[i],len(spell),len(words[i])))+\": \"+words[i])"
   ]
  },
  {
   "cell_type": "code",
   "execution_count": 5,
   "id": "666290b7",
   "metadata": {},
   "outputs": [
    {
     "name": "stdout",
     "output_type": "stream",
     "text": [
      "9: domination\n",
      "7: vacation\n",
      "4: rat\n",
      "4: cat\n",
      "5: bat\n",
      "4: bet\n",
      "4: set\n",
      "1: cricket\n"
     ]
    }
   ],
   "source": [
    "for i in range(len(words)):\n",
    "    print(str(editDistance(spell.lower(),words[i],len(spell),len(words[i])))+\": \"+words[i])"
   ]
  },
  {
   "cell_type": "code",
   "execution_count": null,
   "id": "c004f056",
   "metadata": {},
   "outputs": [],
   "source": []
  }
 ],
 "metadata": {
  "kernelspec": {
   "display_name": "Python 3",
   "language": "python",
   "name": "python3"
  },
  "language_info": {
   "codemirror_mode": {
    "name": "ipython",
    "version": 3
   },
   "file_extension": ".py",
   "mimetype": "text/x-python",
   "name": "python",
   "nbconvert_exporter": "python",
   "pygments_lexer": "ipython3",
   "version": "3.8.8"
  }
 },
 "nbformat": 4,
 "nbformat_minor": 5
}
