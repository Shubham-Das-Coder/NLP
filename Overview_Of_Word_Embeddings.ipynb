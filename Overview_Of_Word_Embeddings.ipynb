{
  "nbformat": 4,
  "nbformat_minor": 0,
  "metadata": {
    "colab": {
      "provenance": [],
      "collapsed_sections": [],
      "authorship_tag": "ABX9TyPCKbuwbv5zHTJQUGMbu2qJ"
    },
    "kernelspec": {
      "name": "python3",
      "display_name": "Python 3"
    },
    "language_info": {
      "name": "python"
    }
  },
  "cells": [
    {
      "cell_type": "code",
      "execution_count": 1,
      "metadata": {
        "id": "JzAY4CQi6flj",
        "colab": {
          "base_uri": "https://localhost:8080/"
        },
        "outputId": "5ebf973d-e0c1-4cb9-96a8-3b2c38c0797a"
      },
      "outputs": [
        {
          "output_type": "stream",
          "name": "stdout",
          "text": [
            "Looking in indexes: https://pypi.org/simple, https://us-python.pkg.dev/colab-wheels/public/simple/\n",
            "Requirement already satisfied: gensim in /usr/local/lib/python3.7/dist-packages (4.2.0)\n",
            "Requirement already satisfied: numpy>=1.17.0 in /usr/local/lib/python3.7/dist-packages (from gensim) (1.21.6)\n",
            "Requirement already satisfied: smart-open>=1.8.1 in /usr/local/lib/python3.7/dist-packages (from gensim) (5.2.1)\n",
            "Requirement already satisfied: scipy>=0.18.1 in /usr/local/lib/python3.7/dist-packages (from gensim) (1.7.3)\n"
          ]
        }
      ],
      "source": [
        "!pip install --upgrade gensim"
      ]
    },
    {
      "cell_type": "code",
      "source": [
        "import gensim.downloader as api"
      ],
      "metadata": {
        "id": "6iz7pCH15Moc"
      },
      "execution_count": 2,
      "outputs": []
    },
    {
      "cell_type": "code",
      "source": [
        "info=api.info()\n",
        "for model_name,model_data in sorted(info['models'].items()):\n",
        "    print(\n",
        "        '%s (%d records): %s' %(\n",
        "            model_name,\n",
        "            model_data.get('num_records',-1),\n",
        "            model_data['description'][:40]+'...',\n",
        "        )\n",
        "    )"
      ],
      "metadata": {
        "colab": {
          "base_uri": "https://localhost:8080/"
        },
        "id": "UdDbN_2T5PQC",
        "outputId": "969fc67a-169b-49d1-85da-c096b0c88dd5"
      },
      "execution_count": 3,
      "outputs": [
        {
          "output_type": "stream",
          "name": "stdout",
          "text": [
            "__testing_word2vec-matrix-synopsis (-1 records): [THIS IS ONLY FOR TESTING] Word vecrors ...\n",
            "conceptnet-numberbatch-17-06-300 (1917247 records): ConceptNet Numberbatch consists of state...\n",
            "fasttext-wiki-news-subwords-300 (999999 records): 1 million word vectors trained on Wikipe...\n",
            "glove-twitter-100 (1193514 records): Pre-trained vectors based on  2B tweets,...\n",
            "glove-twitter-200 (1193514 records): Pre-trained vectors based on 2B tweets, ...\n",
            "glove-twitter-25 (1193514 records): Pre-trained vectors based on 2B tweets, ...\n",
            "glove-twitter-50 (1193514 records): Pre-trained vectors based on 2B tweets, ...\n",
            "glove-wiki-gigaword-100 (400000 records): Pre-trained vectors based on Wikipedia 2...\n",
            "glove-wiki-gigaword-200 (400000 records): Pre-trained vectors based on Wikipedia 2...\n",
            "glove-wiki-gigaword-300 (400000 records): Pre-trained vectors based on Wikipedia 2...\n",
            "glove-wiki-gigaword-50 (400000 records): Pre-trained vectors based on Wikipedia 2...\n",
            "word2vec-google-news-300 (3000000 records): Pre-trained vectors trained on a part of...\n",
            "word2vec-ruscorpora-300 (184973 records): Word2vec Continuous Skipgram vectors tra...\n"
          ]
        }
      ]
    },
    {
      "cell_type": "code",
      "source": [
        "wv=api.load('word2vec-google-news-300')"
      ],
      "metadata": {
        "id": "eQ09fmLN5Q7i"
      },
      "execution_count": 4,
      "outputs": []
    },
    {
      "cell_type": "code",
      "source": [
        "glove=api.load('glove-twitter-50')"
      ],
      "metadata": {
        "id": "WcGsSnOK5TfK"
      },
      "execution_count": 5,
      "outputs": []
    },
    {
      "cell_type": "code",
      "source": [
        "fasttext=api.load('fasttext-wiki-news-subwords-300')"
      ],
      "metadata": {
        "id": "YKHjB-tp5U4a"
      },
      "execution_count": 6,
      "outputs": []
    },
    {
      "cell_type": "code",
      "source": [
        "wv.most_similar('tea')"
      ],
      "metadata": {
        "colab": {
          "base_uri": "https://localhost:8080/"
        },
        "id": "U9RpoTLJ5b_U",
        "outputId": "1caf187f-abb3-48e2-fece-490479083f7d"
      },
      "execution_count": 7,
      "outputs": [
        {
          "output_type": "execute_result",
          "data": {
            "text/plain": [
              "[('Tea', 0.7009038329124451),\n",
              " ('teas', 0.6727380156517029),\n",
              " ('shape_Angius', 0.6323482990264893),\n",
              " ('activist_Jamie_Radtke', 0.5863860249519348),\n",
              " ('decaffeinated_brew', 0.5839536190032959),\n",
              " ('planter_bungalow', 0.575829029083252),\n",
              " ('herbal_tea', 0.5731174349784851),\n",
              " ('coffee', 0.5635291934013367),\n",
              " ('jasmine_tea', 0.548339307308197),\n",
              " ('Tea_NASDAQ_PEET', 0.5402544140815735)]"
            ]
          },
          "metadata": {},
          "execution_count": 7
        }
      ]
    },
    {
      "cell_type": "code",
      "source": [
        "glove.most_similar('tea')"
      ],
      "metadata": {
        "colab": {
          "base_uri": "https://localhost:8080/"
        },
        "id": "yBj99UmX5dcW",
        "outputId": "137468a1-dcaf-4d9c-dccb-281ffc856ce3"
      },
      "execution_count": 8,
      "outputs": [
        {
          "output_type": "execute_result",
          "data": {
            "text/plain": [
              "[('coffee', 0.8929039239883423),\n",
              " ('milk', 0.8667818903923035),\n",
              " ('wine', 0.8507667183876038),\n",
              " ('cream', 0.8502466678619385),\n",
              " ('ice', 0.8362607955932617),\n",
              " ('juice', 0.8177549242973328),\n",
              " ('beer', 0.8157103657722473),\n",
              " ('sugar', 0.8099127411842346),\n",
              " ('cake', 0.8080540895462036),\n",
              " ('drink', 0.8000376224517822)]"
            ]
          },
          "metadata": {},
          "execution_count": 8
        }
      ]
    },
    {
      "cell_type": "code",
      "source": [
        "fasttext.most_similar('tea')"
      ],
      "metadata": {
        "colab": {
          "base_uri": "https://localhost:8080/"
        },
        "id": "67-KpQxa5f0S",
        "outputId": "7b5d63bb-0670-43fa-df66-d3b36bad3292"
      },
      "execution_count": 9,
      "outputs": [
        {
          "output_type": "execute_result",
          "data": {
            "text/plain": [
              "[('tea-', 0.7728264927864075),\n",
              " ('coffee', 0.7583761215209961),\n",
              " ('teas', 0.731768786907196),\n",
              " ('cuppa', 0.7301388382911682),\n",
              " ('teabags', 0.6973741054534912),\n",
              " ('Tea', 0.682609498500824),\n",
              " ('tea-drinking', 0.6748529076576233),\n",
              " ('teabag', 0.670712947845459),\n",
              " ('tea-making', 0.6683592200279236),\n",
              " ('tea-bags', 0.6638833284378052)]"
            ]
          },
          "metadata": {},
          "execution_count": 9
        }
      ]
    },
    {
      "cell_type": "code",
      "source": [
        "wv.distance('tea','coffee')"
      ],
      "metadata": {
        "colab": {
          "base_uri": "https://localhost:8080/"
        },
        "id": "htdD4dst5kfC",
        "outputId": "a7df904c-712a-4a91-ff3d-c850e3973ed3"
      },
      "execution_count": 10,
      "outputs": [
        {
          "output_type": "execute_result",
          "data": {
            "text/plain": [
              "0.43647080659866333"
            ]
          },
          "metadata": {},
          "execution_count": 10
        }
      ]
    },
    {
      "cell_type": "code",
      "source": [
        "wv.distance('tea','pea')"
      ],
      "metadata": {
        "colab": {
          "base_uri": "https://localhost:8080/"
        },
        "id": "jEqppSJo5nLm",
        "outputId": "2f897f1e-b663-4834-f06a-83315b4cd0ed"
      },
      "execution_count": 11,
      "outputs": [
        {
          "output_type": "execute_result",
          "data": {
            "text/plain": [
              "0.7058370113372803"
            ]
          },
          "metadata": {},
          "execution_count": 11
        }
      ]
    },
    {
      "cell_type": "code",
      "source": [
        "glove.distance('tea','coffee')"
      ],
      "metadata": {
        "colab": {
          "base_uri": "https://localhost:8080/"
        },
        "id": "zxA_orFA5roB",
        "outputId": "1fafb4ad-1df4-48cf-885c-a9214221229a"
      },
      "execution_count": 12,
      "outputs": [
        {
          "output_type": "execute_result",
          "data": {
            "text/plain": [
              "0.10709613561630249"
            ]
          },
          "metadata": {},
          "execution_count": 12
        }
      ]
    },
    {
      "cell_type": "code",
      "source": [
        "glove.distance('tea','pea')"
      ],
      "metadata": {
        "colab": {
          "base_uri": "https://localhost:8080/"
        },
        "id": "YzQiwqKv5tYq",
        "outputId": "fb0cdf1e-34e9-4ae6-8077-305c254c4b73"
      },
      "execution_count": 13,
      "outputs": [
        {
          "output_type": "execute_result",
          "data": {
            "text/plain": [
              "0.5254092812538147"
            ]
          },
          "metadata": {},
          "execution_count": 13
        }
      ]
    },
    {
      "cell_type": "code",
      "source": [
        "fasttext.distance('tea','coffee')"
      ],
      "metadata": {
        "colab": {
          "base_uri": "https://localhost:8080/"
        },
        "id": "8__Uzf8G5vhn",
        "outputId": "864b7d89-9eac-43d1-c297-95d4b2991623"
      },
      "execution_count": 14,
      "outputs": [
        {
          "output_type": "execute_result",
          "data": {
            "text/plain": [
              "0.2416238784790039"
            ]
          },
          "metadata": {},
          "execution_count": 14
        }
      ]
    },
    {
      "cell_type": "code",
      "source": [
        "fasttext.distance('tea','pea')"
      ],
      "metadata": {
        "colab": {
          "base_uri": "https://localhost:8080/"
        },
        "id": "32Lk4qBe5xUP",
        "outputId": "e4c336a6-8f1a-4e24-b1e8-b981643b6b61"
      },
      "execution_count": 15,
      "outputs": [
        {
          "output_type": "execute_result",
          "data": {
            "text/plain": [
              "0.6215707659721375"
            ]
          },
          "metadata": {},
          "execution_count": 15
        }
      ]
    },
    {
      "cell_type": "code",
      "source": [
        "wv.most_similar_cosmul(positive=['king','woman'],negative=['man'])"
      ],
      "metadata": {
        "colab": {
          "base_uri": "https://localhost:8080/"
        },
        "id": "39RdBBCh5y2G",
        "outputId": "0483fede-4924-4ff1-e605-6668636c317a"
      },
      "execution_count": 16,
      "outputs": [
        {
          "output_type": "execute_result",
          "data": {
            "text/plain": [
              "[('queen', 0.9314123392105103),\n",
              " ('monarch', 0.858533501625061),\n",
              " ('princess', 0.8476566076278687),\n",
              " ('Queen_Consort', 0.8150269985198975),\n",
              " ('queens', 0.8099815249443054),\n",
              " ('crown_prince', 0.8089976906776428),\n",
              " ('royal_palace', 0.8027306795120239),\n",
              " ('monarchy', 0.8019613027572632),\n",
              " ('prince', 0.800979733467102),\n",
              " ('empress', 0.7958389520645142)]"
            ]
          },
          "metadata": {},
          "execution_count": 16
        }
      ]
    },
    {
      "cell_type": "code",
      "source": [
        "wv.most_similar_cosmul(positive=['restaurant','cocktail'],negative=['dinner'])"
      ],
      "metadata": {
        "colab": {
          "base_uri": "https://localhost:8080/"
        },
        "id": "rkD681fI6y7-",
        "outputId": "074903ef-42a1-4822-e37f-4760cebdae53"
      },
      "execution_count": 17,
      "outputs": [
        {
          "output_type": "execute_result",
          "data": {
            "text/plain": [
              "[('eatery', 0.8693193793296814),\n",
              " ('bartender', 0.8536876440048218),\n",
              " ('bartenders', 0.8526809811592102),\n",
              " ('nightspot', 0.8493297100067139),\n",
              " ('Buddha_Bar', 0.8486438393592834),\n",
              " ('Pegu_Club', 0.8456864953041077),\n",
              " ('brewpub', 0.8379691243171692),\n",
              " ('La_Floridita', 0.836773157119751),\n",
              " ('cafe', 0.8341168165206909),\n",
              " ('Tres_Agaves', 0.830361545085907)]"
            ]
          },
          "metadata": {},
          "execution_count": 17
        }
      ]
    },
    {
      "cell_type": "code",
      "source": [
        "glove.most_similar_cosmul(positive=['king','woman'],negative=['man'])"
      ],
      "metadata": {
        "colab": {
          "base_uri": "https://localhost:8080/"
        },
        "id": "dyzBmobN61R_",
        "outputId": "cdfdea8e-ec7d-40bd-d60a-65c71e19bd35"
      },
      "execution_count": 18,
      "outputs": [
        {
          "output_type": "execute_result",
          "data": {
            "text/plain": [
              "[('stone', 0.9959613680839539),\n",
              " ('queen', 0.9848849177360535),\n",
              " ('royal', 0.9840919375419617),\n",
              " ('prince', 0.983715295791626),\n",
              " ('meets', 0.9812722206115723),\n",
              " ('african', 0.9724677205085754),\n",
              " ('virgin', 0.9554036855697632),\n",
              " ('american', 0.952918529510498),\n",
              " ('elizabeth', 0.9502761960029602),\n",
              " ('baker', 0.9487670660018921)]"
            ]
          },
          "metadata": {},
          "execution_count": 18
        }
      ]
    },
    {
      "cell_type": "code",
      "source": [
        "glove.most_similar_cosmul(positive=['restaurant','cocktail'],negative=['dinner'])"
      ],
      "metadata": {
        "colab": {
          "base_uri": "https://localhost:8080/"
        },
        "id": "zH7fMCPM63I3",
        "outputId": "c42a5b61-c906-4a7d-d584-587ecae5e308"
      },
      "execution_count": 19,
      "outputs": [
        {
          "output_type": "execute_result",
          "data": {
            "text/plain": [
              "[('parasol', 0.9831569790840149),\n",
              " ('espresso', 0.9750884175300598),\n",
              " ('brewery', 0.9728925228118896),\n",
              " ('luxe', 0.9713363647460938),\n",
              " ('textile', 0.965752899646759),\n",
              " ('imperial', 0.9617224931716919),\n",
              " ('lager', 0.9591490030288696),\n",
              " ('coworking', 0.9539802074432373),\n",
              " ('barbecue', 0.9530752301216125),\n",
              " ('bloc', 0.9460505247116089)]"
            ]
          },
          "metadata": {},
          "execution_count": 19
        }
      ]
    },
    {
      "cell_type": "code",
      "source": [
        "fasttext.most_similar_cosmul(positive=['king','woman'],negative=['man'])"
      ],
      "metadata": {
        "colab": {
          "base_uri": "https://localhost:8080/"
        },
        "id": "mN604vMG64sC",
        "outputId": "0d578897-795e-484b-86ec-2698986fcee3"
      },
      "execution_count": 20,
      "outputs": [
        {
          "output_type": "execute_result",
          "data": {
            "text/plain": [
              "[('queen', 0.9390855431556702),\n",
              " ('queen-mother', 0.9078598618507385),\n",
              " ('king-', 0.8828966617584229),\n",
              " ('queen-consort', 0.882541835308075),\n",
              " ('child-king', 0.8680858016014099),\n",
              " ('monarch', 0.8670082688331604),\n",
              " ('ex-queen', 0.8654637932777405),\n",
              " ('princess', 0.8628991842269897),\n",
              " ('queen-', 0.8613532781600952),\n",
              " ('boy-king', 0.860465943813324)]"
            ]
          },
          "metadata": {},
          "execution_count": 20
        }
      ]
    },
    {
      "cell_type": "code",
      "source": [
        "fasttext.most_similar_cosmul(positive=['restaurant','cocktail'],negative=['dinner'])"
      ],
      "metadata": {
        "colab": {
          "base_uri": "https://localhost:8080/"
        },
        "id": "DslNCom766m_",
        "outputId": "bac9a2ad-24b1-4161-c6a0-86cd3ae4250d"
      },
      "execution_count": 21,
      "outputs": [
        {
          "output_type": "execute_result",
          "data": {
            "text/plain": [
              "[('bar-restaurant', 0.9216465950012207),\n",
              " ('restaurant-bar', 0.9107573628425598),\n",
              " ('cocktail-making', 0.8984322547912598),\n",
              " ('mixology', 0.8981987833976746),\n",
              " ('wine-bar', 0.8936376571655273),\n",
              " ('nightclub', 0.889917254447937),\n",
              " ('brewpub', 0.886235237121582),\n",
              " ('gastro-pub', 0.8823450803756714),\n",
              " ('cafe-bar', 0.8814408779144287),\n",
              " ('boutique', 0.8777210116386414)]"
            ]
          },
          "metadata": {},
          "execution_count": 21
        }
      ]
    }
  ]
}