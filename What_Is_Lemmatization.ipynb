{
 "cells": [
  {
   "cell_type": "code",
   "execution_count": 1,
   "id": "d0df8bc5",
   "metadata": {},
   "outputs": [],
   "source": [
    "import nltk\n",
    "from nltk.stem import PorterStemmer\n",
    "ps=PorterStemmer()"
   ]
  },
  {
   "cell_type": "code",
   "execution_count": 2,
   "id": "00589706",
   "metadata": {},
   "outputs": [
    {
     "name": "stdout",
     "output_type": "stream",
     "text": [
      "Like  :  like\n",
      "Liking  :  like\n",
      "Likes  :  like\n"
     ]
    }
   ],
   "source": [
    "words=[\"Like\",\"Liking\",\"Likes\"]\n",
    "\n",
    "for i in words:\n",
    "    print(i,' : ',ps.stem(i))"
   ]
  },
  {
   "cell_type": "code",
   "execution_count": 3,
   "id": "b379df24",
   "metadata": {},
   "outputs": [
    {
     "name": "stdout",
     "output_type": "stream",
     "text": [
      "Applaude  :  applaud\n",
      "Breaking  :  break\n",
      "Cheering  :  cheer\n",
      "Drunk  :  drunk\n",
      "Encoding  :  encod\n",
      "Fresher  :  fresher\n",
      "Ground  :  ground\n",
      "International  :  intern\n",
      "Joking  :  joke\n",
      "Kleptomaniac  :  kleptomaniac\n",
      "Lucid  :  lucid\n",
      "Mar  :  mar\n",
      "Nocturnal  :  nocturn\n",
      "Octopus  :  octopu\n",
      "Pirate  :  pirat\n",
      "Quadratic  :  quadrat\n",
      "Reptile  :  reptil\n",
      "Sensing  :  sens\n",
      "Talkative  :  talk\n",
      "Understandable  :  understand\n",
      "Vulture  :  vultur\n",
      "Working  :  work\n",
      "Xerox  :  xerox\n",
      "Yawning  :  yawn\n",
      "Zebra  :  zebra\n"
     ]
    }
   ],
   "source": [
    "w=[\"Applaude\",\"Breaking\",\"Cheering\",\"Drunk\",\"Encoding\",\"Fresher\",\"Ground\",\"International\",\"Joking\",\"Kleptomaniac\",\"Lucid\",\"Mar\",\"Nocturnal\",\"Octopus\",\"Pirate\",\"Quadratic\",\"Reptile\",\"Sensing\",\"Talkative\",\"Understandable\",\"Vulture\",\"Working\",\"Xerox\",\"Yawning\",\"Zebra\"]\n",
    "\n",
    "for j in w:\n",
    "    print(j,' : ',ps.stem(j))"
   ]
  }
 ],
 "metadata": {
  "kernelspec": {
   "display_name": "Python 3",
   "language": "python",
   "name": "python3"
  },
  "language_info": {
   "codemirror_mode": {
    "name": "ipython",
    "version": 3
   },
   "file_extension": ".py",
   "mimetype": "text/x-python",
   "name": "python",
   "nbconvert_exporter": "python",
   "pygments_lexer": "ipython3",
   "version": "3.8.8"
  }
 },
 "nbformat": 4,
 "nbformat_minor": 5
}
