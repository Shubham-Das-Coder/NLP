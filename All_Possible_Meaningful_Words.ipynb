{
 "cells": [
  {
   "cell_type": "code",
   "execution_count": 1,
   "id": "d3915d59",
   "metadata": {},
   "outputs": [],
   "source": [
    "from itertools import permutations\n",
    "import enchant"
   ]
  },
  {
   "cell_type": "code",
   "execution_count": 2,
   "id": "a8f80906",
   "metadata": {},
   "outputs": [],
   "source": [
    "d=enchant.Dict(\"en_US\")"
   ]
  },
  {
   "cell_type": "code",
   "execution_count": 3,
   "id": "154b677b",
   "metadata": {},
   "outputs": [],
   "source": [
    "op=set()"
   ]
  },
  {
   "cell_type": "code",
   "execution_count": 4,
   "id": "caac5969",
   "metadata": {},
   "outputs": [
    {
     "name": "stdout",
     "output_type": "stream",
     "text": [
      "Enter a word: problem\n"
     ]
    }
   ],
   "source": [
    "word=input(\"Enter a word: \")"
   ]
  },
  {
   "cell_type": "code",
   "execution_count": 5,
   "id": "f875301d",
   "metadata": {},
   "outputs": [],
   "source": [
    "letter=[x.lower() for x in word]"
   ]
  },
  {
   "cell_type": "code",
   "execution_count": 6,
   "id": "f07e468c",
   "metadata": {},
   "outputs": [],
   "source": [
    "for i in range(3,len(word)):\n",
    "    for y in list(permutations(letter,i)):\n",
    "        z=\"\".join(y)\n",
    "        if d.check(z):\n",
    "            op.add(z)"
   ]
  },
  {
   "cell_type": "code",
   "execution_count": 7,
   "id": "5abe5e75",
   "metadata": {},
   "outputs": [
    {
     "name": "stdout",
     "output_type": "stream",
     "text": [
      "{'ope', 'bop', 'prem', 'bore', 'bro', 'mob', 'bel', 'omer', 'lope', 'ole', 'rem', 'pole', 'robe', 'lob', 'role', 'mole', 'roble', 'prob', 'roe', 'rpm', 'bpm', 'lop', 'pore', 'berm', 'more', 'pro', 'bor', 'rom', 'mel', 'pome', 'lore', 'prole', 'pom', 'romp', 'mol', 'lobe', 'proem', 'morel', 'pleb', 'poler', 'omber', 'mope', 'rope', 'moper', 'mop', 'orle', 'rob', 'loper', 'emo', 'per', 'ore', 'perm', 'rep', 'elm', 'poem', 'bole', 'probe', 'pol', 'orb', 'prom', 'rel'}\n"
     ]
    }
   ],
   "source": [
    "print(op)"
   ]
  }
 ],
 "metadata": {
  "kernelspec": {
   "display_name": "Python 3",
   "language": "python",
   "name": "python3"
  },
  "language_info": {
   "codemirror_mode": {
    "name": "ipython",
    "version": 3
   },
   "file_extension": ".py",
   "mimetype": "text/x-python",
   "name": "python",
   "nbconvert_exporter": "python",
   "pygments_lexer": "ipython3",
   "version": "3.8.8"
  }
 },
 "nbformat": 4,
 "nbformat_minor": 5
}
