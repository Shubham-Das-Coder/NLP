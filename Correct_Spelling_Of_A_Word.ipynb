{
 "cells": [
  {
   "cell_type": "code",
   "execution_count": 1,
   "id": "8967ba56",
   "metadata": {},
   "outputs": [],
   "source": [
    "from textblob import Word"
   ]
  },
  {
   "cell_type": "code",
   "execution_count": 2,
   "id": "f305e3b0",
   "metadata": {},
   "outputs": [],
   "source": [
    "def correct_word_spelling(word):\n",
    "    word=Word(word)\n",
    "    result=word.correct()\n",
    "    print(result)"
   ]
  },
  {
   "cell_type": "code",
   "execution_count": 3,
   "id": "ebec433c",
   "metadata": {},
   "outputs": [
    {
     "name": "stdout",
     "output_type": "stream",
     "text": [
      "apply\n"
     ]
    }
   ],
   "source": [
    "correct_word_spelling('aply')"
   ]
  },
  {
   "cell_type": "code",
   "execution_count": 4,
   "id": "c95f294d",
   "metadata": {},
   "outputs": [
    {
     "name": "stdout",
     "output_type": "stream",
     "text": [
      "beautiful\n"
     ]
    }
   ],
   "source": [
    "correct_word_spelling('beautifool')"
   ]
  },
  {
   "cell_type": "code",
   "execution_count": 5,
   "id": "5ce7b78f",
   "metadata": {},
   "outputs": [
    {
     "name": "stdout",
     "output_type": "stream",
     "text": [
      "christmas\n"
     ]
    }
   ],
   "source": [
    "correct_word_spelling('chismas')"
   ]
  },
  {
   "cell_type": "code",
   "execution_count": 6,
   "id": "79264aa7",
   "metadata": {},
   "outputs": [
    {
     "name": "stdout",
     "output_type": "stream",
     "text": [
      "donkey\n"
     ]
    }
   ],
   "source": [
    "correct_word_spelling('donkiy')"
   ]
  },
  {
   "cell_type": "code",
   "execution_count": 7,
   "id": "16874e95",
   "metadata": {},
   "outputs": [
    {
     "name": "stdout",
     "output_type": "stream",
     "text": [
      "electricity\n"
     ]
    }
   ],
   "source": [
    "correct_word_spelling('electreecity')"
   ]
  }
 ],
 "metadata": {
  "kernelspec": {
   "display_name": "Python 3",
   "language": "python",
   "name": "python3"
  },
  "language_info": {
   "codemirror_mode": {
    "name": "ipython",
    "version": 3
   },
   "file_extension": ".py",
   "mimetype": "text/x-python",
   "name": "python",
   "nbconvert_exporter": "python",
   "pygments_lexer": "ipython3",
   "version": "3.8.8"
  }
 },
 "nbformat": 4,
 "nbformat_minor": 5
}
