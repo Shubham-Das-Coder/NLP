{
 "cells": [
  {
   "cell_type": "code",
   "execution_count": 1,
   "id": "1fa31343",
   "metadata": {},
   "outputs": [],
   "source": [
    "def editDistance(str1, str2, m, n):\n",
    "    if m == 0:\n",
    "        return n\n",
    "    if n == 0:\n",
    "        return m\n",
    "    if str1[m-1] == str2[n-1]:\n",
    "        return editDistance(str1, str2, m-1, n-1)\n",
    "    return 1 + min(editDistance(str1, str2, m, n-1),    # Insert\n",
    "                   editDistance(str1, str2, m-1, n),    # Remove\n",
    "                   editDistance(str1, str2, m-1, n-1)    # Replace\n",
    "                   )"
   ]
  },
  {
   "cell_type": "code",
   "execution_count": 2,
   "id": "af316e07",
   "metadata": {},
   "outputs": [],
   "source": [
    "str1 = \"horse\"\n",
    "str2 = \"ros\""
   ]
  },
  {
   "cell_type": "code",
   "execution_count": 3,
   "id": "5e543c33",
   "metadata": {},
   "outputs": [
    {
     "name": "stdout",
     "output_type": "stream",
     "text": [
      "3\n"
     ]
    }
   ],
   "source": [
    "print(editDistance(str1, str2, len(str1), len(str2)))"
   ]
  },
  {
   "cell_type": "code",
   "execution_count": 4,
   "id": "b45561da",
   "metadata": {},
   "outputs": [],
   "source": [
    "str1 = \"horse\"\n",
    "str2 = \"ros\""
   ]
  },
  {
   "cell_type": "code",
   "execution_count": 5,
   "id": "4fc13e18",
   "metadata": {},
   "outputs": [
    {
     "name": "stdout",
     "output_type": "stream",
     "text": [
      "3\n"
     ]
    }
   ],
   "source": [
    "print(editDistance(str1, str2, len(str1), len(str2)))"
   ]
  },
  {
   "cell_type": "code",
   "execution_count": 6,
   "id": "79269f49",
   "metadata": {},
   "outputs": [],
   "source": [
    "str1 = \"intention\"\n",
    "str2 = \"execution\""
   ]
  },
  {
   "cell_type": "code",
   "execution_count": 7,
   "id": "8275ea8d",
   "metadata": {},
   "outputs": [
    {
     "name": "stdout",
     "output_type": "stream",
     "text": [
      "5\n"
     ]
    }
   ],
   "source": [
    "print(editDistance(str1, str2, len(str1), len(str2)))"
   ]
  },
  {
   "cell_type": "code",
   "execution_count": 8,
   "id": "4c28e25e",
   "metadata": {},
   "outputs": [],
   "source": [
    "str1 = \"sunday\"\n",
    "str2 = \"saturday\""
   ]
  },
  {
   "cell_type": "code",
   "execution_count": 9,
   "id": "8e900962",
   "metadata": {},
   "outputs": [
    {
     "name": "stdout",
     "output_type": "stream",
     "text": [
      "3\n"
     ]
    }
   ],
   "source": [
    "print(editDistance(str1, str2, len(str1), len(str2)))"
   ]
  },
  {
   "cell_type": "code",
   "execution_count": 10,
   "id": "87f0c91f",
   "metadata": {},
   "outputs": [],
   "source": [
    "str1 = \"Sunday\"\n",
    "str2 = \"saturday\""
   ]
  },
  {
   "cell_type": "code",
   "execution_count": 11,
   "id": "0b36b412",
   "metadata": {},
   "outputs": [
    {
     "name": "stdout",
     "output_type": "stream",
     "text": [
      "4\n"
     ]
    }
   ],
   "source": [
    "print(editDistance(str1, str2, len(str1), len(str2)))"
   ]
  }
 ],
 "metadata": {
  "kernelspec": {
   "display_name": "Python 3",
   "language": "python",
   "name": "python3"
  },
  "language_info": {
   "codemirror_mode": {
    "name": "ipython",
    "version": 3
   },
   "file_extension": ".py",
   "mimetype": "text/x-python",
   "name": "python",
   "nbconvert_exporter": "python",
   "pygments_lexer": "ipython3",
   "version": "3.8.8"
  }
 },
 "nbformat": 4,
 "nbformat_minor": 5
}
